{
 "cells": [
  {
   "cell_type": "code",
   "execution_count": 3,
   "id": "01863b74-69d3-41d7-91fd-2b4b3143a54b",
   "metadata": {},
   "outputs": [],
   "source": [
    "import influxdb_client\n",
    "from influxdb_client.client.write_api import SYNCHRONOUS\n",
    "\n",
    "\n",
    "bucket = \"Nintex\"\n",
    "org = \"Prof-X\"\n",
    "token = \"BHcqm5tov_ykYHQYbIDjobI1AdWKYyReyv65pTU1qZfaZVeYNBdcN6mFoLPPgslAQZk2WipdNNAd5sAjrXN53Q==\"\n",
    "url=\"https://influx.prof-x.net\"\n",
    "\n"
   ]
  },
  {
   "cell_type": "code",
   "execution_count": 12,
   "id": "804a4c77-ca32-4cf6-aa6f-57ab8fc30ddd",
   "metadata": {},
   "outputs": [],
   "source": [
    "client = influxdb_client.InfluxDBClient(\n",
    "   url=url,\n",
    "   token=token,\n",
    "   org=org\n",
    ")\n",
    "\n",
    "write_api = client.write_api(write_options=SYNCHRONOUS)\n",
    "p = influxdb_client.Point(\"Processes\").tag(\"TEST\", True).tag(\"Type\", \"Un-Published\").field(\"count\", -1)\n",
    "write_api.write(bucket=bucket, org=org, record=p)\n",
    "\n"
   ]
  },
  {
   "cell_type": "code",
   "execution_count": null,
   "id": "cb26ac2e-4b0d-469d-b2cc-323a51f044a1",
   "metadata": {},
   "outputs": [],
   "source": [
    "\n"
   ]
  }
 ],
 "metadata": {
  "kernelspec": {
   "display_name": "Python 3 (ipykernel)",
   "language": "python",
   "name": "python3"
  },
  "language_info": {
   "codemirror_mode": {
    "name": "ipython",
    "version": 3
   },
   "file_extension": ".py",
   "mimetype": "text/x-python",
   "name": "python",
   "nbconvert_exporter": "python",
   "pygments_lexer": "ipython3",
   "version": "3.11.9"
  }
 },
 "nbformat": 4,
 "nbformat_minor": 5
}
